{
 "cells": [
  {
   "cell_type": "markdown",
   "metadata": {},
   "source": [
    "### GDP Growth (경제 성장율) 이란?\n",
    "GDP Growth = (올해 GDP - 작년 GDP) / 작년 GDP * 100 으로  표현하며 작년 대비 GDP의 증가율을 나타낸 것이다.\n",
    "\n",
    " \n",
    "\n",
    "세계 GDP growth 데이터\n",
    "\n",
    "(출처) https://data.worldbank.org/indicator/NY.GDP.MKTP.KD.ZG"
   ]
  },
  {
   "cell_type": "markdown",
   "metadata": {},
   "source": [
    "### - 분석 목적\n",
    "\n",
    "GDP 성장률를 파악하여 국가별로 GDP 성장 동향을 파악하고 2019년도와 2020년도 GDP 성장률을 비교하며 어떤 국가가 코로나로 인해 큰 피해를 입었는 지 파악해보자"
   ]
  },
  {
   "cell_type": "code",
   "execution_count": 18,
   "metadata": {},
   "outputs": [],
   "source": [
    "# import library\n",
    "import pandas as pd\n",
    "import numpy as np\n",
    "import matplotlib.pyplot as plt\n",
    "import os\n",
    "\n",
    "os.chdir(r\"C:\\\\Users\\\\USER\\\\Desktop\\\\Data\")"
   ]
  },
  {
   "cell_type": "code",
   "execution_count": 19,
   "metadata": {},
   "outputs": [
    {
     "data": {
      "text/html": [
       "<div>\n",
       "<style scoped>\n",
       "    .dataframe tbody tr th:only-of-type {\n",
       "        vertical-align: middle;\n",
       "    }\n",
       "\n",
       "    .dataframe tbody tr th {\n",
       "        vertical-align: top;\n",
       "    }\n",
       "\n",
       "    .dataframe thead th {\n",
       "        text-align: right;\n",
       "    }\n",
       "</style>\n",
       "<table border=\"1\" class=\"dataframe\">\n",
       "  <thead>\n",
       "    <tr style=\"text-align: right;\">\n",
       "      <th></th>\n",
       "      <th>Country Name</th>\n",
       "      <th>Country Code</th>\n",
       "      <th>Indicator Name</th>\n",
       "      <th>1960</th>\n",
       "      <th>1961</th>\n",
       "      <th>1962</th>\n",
       "      <th>1963</th>\n",
       "      <th>1964</th>\n",
       "      <th>1965</th>\n",
       "      <th>1966</th>\n",
       "      <th>...</th>\n",
       "      <th>2011</th>\n",
       "      <th>2012</th>\n",
       "      <th>2013</th>\n",
       "      <th>2014</th>\n",
       "      <th>2015</th>\n",
       "      <th>2016</th>\n",
       "      <th>2017</th>\n",
       "      <th>2018</th>\n",
       "      <th>2019</th>\n",
       "      <th>2020</th>\n",
       "    </tr>\n",
       "  </thead>\n",
       "  <tbody>\n",
       "    <tr>\n",
       "      <th>0</th>\n",
       "      <td>Aruba</td>\n",
       "      <td>ABW</td>\n",
       "      <td>GDP growth (annual %)</td>\n",
       "      <td>NaN</td>\n",
       "      <td>NaN</td>\n",
       "      <td>NaN</td>\n",
       "      <td>NaN</td>\n",
       "      <td>NaN</td>\n",
       "      <td>NaN</td>\n",
       "      <td>NaN</td>\n",
       "      <td>...</td>\n",
       "      <td>3.45</td>\n",
       "      <td>-1.37</td>\n",
       "      <td>4.20</td>\n",
       "      <td>0.30</td>\n",
       "      <td>5.70</td>\n",
       "      <td>2.10</td>\n",
       "      <td>2.00</td>\n",
       "      <td>NaN</td>\n",
       "      <td>NaN</td>\n",
       "      <td>NaN</td>\n",
       "    </tr>\n",
       "    <tr>\n",
       "      <th>1</th>\n",
       "      <td>Africa Eastern and Southern</td>\n",
       "      <td>AFE</td>\n",
       "      <td>GDP growth (annual %)</td>\n",
       "      <td>NaN</td>\n",
       "      <td>1.06</td>\n",
       "      <td>7.45</td>\n",
       "      <td>5.74</td>\n",
       "      <td>5.47</td>\n",
       "      <td>5.59</td>\n",
       "      <td>4.06</td>\n",
       "      <td>...</td>\n",
       "      <td>4.20</td>\n",
       "      <td>3.24</td>\n",
       "      <td>4.47</td>\n",
       "      <td>4.09</td>\n",
       "      <td>2.76</td>\n",
       "      <td>2.00</td>\n",
       "      <td>2.83</td>\n",
       "      <td>2.39</td>\n",
       "      <td>1.67</td>\n",
       "      <td>-3.58</td>\n",
       "    </tr>\n",
       "    <tr>\n",
       "      <th>2</th>\n",
       "      <td>Afghanistan</td>\n",
       "      <td>AFG</td>\n",
       "      <td>GDP growth (annual %)</td>\n",
       "      <td>NaN</td>\n",
       "      <td>NaN</td>\n",
       "      <td>NaN</td>\n",
       "      <td>NaN</td>\n",
       "      <td>NaN</td>\n",
       "      <td>NaN</td>\n",
       "      <td>NaN</td>\n",
       "      <td>...</td>\n",
       "      <td>0.43</td>\n",
       "      <td>12.75</td>\n",
       "      <td>5.60</td>\n",
       "      <td>2.72</td>\n",
       "      <td>1.45</td>\n",
       "      <td>2.26</td>\n",
       "      <td>2.65</td>\n",
       "      <td>1.19</td>\n",
       "      <td>3.91</td>\n",
       "      <td>-1.93</td>\n",
       "    </tr>\n",
       "    <tr>\n",
       "      <th>3</th>\n",
       "      <td>Africa Western and Central</td>\n",
       "      <td>AFW</td>\n",
       "      <td>GDP growth (annual %)</td>\n",
       "      <td>NaN</td>\n",
       "      <td>1.90</td>\n",
       "      <td>3.82</td>\n",
       "      <td>7.04</td>\n",
       "      <td>5.23</td>\n",
       "      <td>4.18</td>\n",
       "      <td>-1.80</td>\n",
       "      <td>...</td>\n",
       "      <td>5.00</td>\n",
       "      <td>5.27</td>\n",
       "      <td>5.83</td>\n",
       "      <td>5.83</td>\n",
       "      <td>2.74</td>\n",
       "      <td>0.00</td>\n",
       "      <td>2.16</td>\n",
       "      <td>2.83</td>\n",
       "      <td>3.15</td>\n",
       "      <td>-0.98</td>\n",
       "    </tr>\n",
       "    <tr>\n",
       "      <th>4</th>\n",
       "      <td>Angola</td>\n",
       "      <td>AGO</td>\n",
       "      <td>GDP growth (annual %)</td>\n",
       "      <td>NaN</td>\n",
       "      <td>NaN</td>\n",
       "      <td>NaN</td>\n",
       "      <td>NaN</td>\n",
       "      <td>NaN</td>\n",
       "      <td>NaN</td>\n",
       "      <td>NaN</td>\n",
       "      <td>...</td>\n",
       "      <td>3.47</td>\n",
       "      <td>8.54</td>\n",
       "      <td>4.95</td>\n",
       "      <td>4.82</td>\n",
       "      <td>0.94</td>\n",
       "      <td>-2.58</td>\n",
       "      <td>-0.15</td>\n",
       "      <td>-2.00</td>\n",
       "      <td>-0.62</td>\n",
       "      <td>-4.04</td>\n",
       "    </tr>\n",
       "    <tr>\n",
       "      <th>...</th>\n",
       "      <td>...</td>\n",
       "      <td>...</td>\n",
       "      <td>...</td>\n",
       "      <td>...</td>\n",
       "      <td>...</td>\n",
       "      <td>...</td>\n",
       "      <td>...</td>\n",
       "      <td>...</td>\n",
       "      <td>...</td>\n",
       "      <td>...</td>\n",
       "      <td>...</td>\n",
       "      <td>...</td>\n",
       "      <td>...</td>\n",
       "      <td>...</td>\n",
       "      <td>...</td>\n",
       "      <td>...</td>\n",
       "      <td>...</td>\n",
       "      <td>...</td>\n",
       "      <td>...</td>\n",
       "      <td>...</td>\n",
       "      <td>...</td>\n",
       "    </tr>\n",
       "    <tr>\n",
       "      <th>261</th>\n",
       "      <td>Kosovo</td>\n",
       "      <td>XKX</td>\n",
       "      <td>GDP growth (annual %)</td>\n",
       "      <td>NaN</td>\n",
       "      <td>NaN</td>\n",
       "      <td>NaN</td>\n",
       "      <td>NaN</td>\n",
       "      <td>NaN</td>\n",
       "      <td>NaN</td>\n",
       "      <td>NaN</td>\n",
       "      <td>...</td>\n",
       "      <td>4.38</td>\n",
       "      <td>2.81</td>\n",
       "      <td>3.44</td>\n",
       "      <td>1.22</td>\n",
       "      <td>4.10</td>\n",
       "      <td>4.07</td>\n",
       "      <td>4.23</td>\n",
       "      <td>3.81</td>\n",
       "      <td>4.94</td>\n",
       "      <td>-6.89</td>\n",
       "    </tr>\n",
       "    <tr>\n",
       "      <th>262</th>\n",
       "      <td>Yemen, Rep.</td>\n",
       "      <td>YEM</td>\n",
       "      <td>GDP growth (annual %)</td>\n",
       "      <td>NaN</td>\n",
       "      <td>NaN</td>\n",
       "      <td>NaN</td>\n",
       "      <td>NaN</td>\n",
       "      <td>NaN</td>\n",
       "      <td>NaN</td>\n",
       "      <td>NaN</td>\n",
       "      <td>...</td>\n",
       "      <td>-12.71</td>\n",
       "      <td>2.39</td>\n",
       "      <td>4.82</td>\n",
       "      <td>-0.19</td>\n",
       "      <td>-27.99</td>\n",
       "      <td>-9.38</td>\n",
       "      <td>-5.07</td>\n",
       "      <td>0.75</td>\n",
       "      <td>NaN</td>\n",
       "      <td>NaN</td>\n",
       "    </tr>\n",
       "    <tr>\n",
       "      <th>263</th>\n",
       "      <td>South Africa</td>\n",
       "      <td>ZAF</td>\n",
       "      <td>GDP growth (annual %)</td>\n",
       "      <td>NaN</td>\n",
       "      <td>3.84</td>\n",
       "      <td>6.18</td>\n",
       "      <td>7.37</td>\n",
       "      <td>7.94</td>\n",
       "      <td>6.12</td>\n",
       "      <td>4.44</td>\n",
       "      <td>...</td>\n",
       "      <td>3.28</td>\n",
       "      <td>2.21</td>\n",
       "      <td>2.49</td>\n",
       "      <td>1.85</td>\n",
       "      <td>1.19</td>\n",
       "      <td>0.40</td>\n",
       "      <td>1.41</td>\n",
       "      <td>0.79</td>\n",
       "      <td>0.15</td>\n",
       "      <td>-6.96</td>\n",
       "    </tr>\n",
       "    <tr>\n",
       "      <th>264</th>\n",
       "      <td>Zambia</td>\n",
       "      <td>ZMB</td>\n",
       "      <td>GDP growth (annual %)</td>\n",
       "      <td>NaN</td>\n",
       "      <td>1.36</td>\n",
       "      <td>-2.49</td>\n",
       "      <td>3.27</td>\n",
       "      <td>12.21</td>\n",
       "      <td>16.65</td>\n",
       "      <td>-5.57</td>\n",
       "      <td>...</td>\n",
       "      <td>5.56</td>\n",
       "      <td>7.60</td>\n",
       "      <td>5.06</td>\n",
       "      <td>4.70</td>\n",
       "      <td>2.92</td>\n",
       "      <td>3.78</td>\n",
       "      <td>3.50</td>\n",
       "      <td>4.03</td>\n",
       "      <td>1.44</td>\n",
       "      <td>-3.02</td>\n",
       "    </tr>\n",
       "    <tr>\n",
       "      <th>265</th>\n",
       "      <td>Zimbabwe</td>\n",
       "      <td>ZWE</td>\n",
       "      <td>GDP growth (annual %)</td>\n",
       "      <td>NaN</td>\n",
       "      <td>6.32</td>\n",
       "      <td>1.43</td>\n",
       "      <td>6.24</td>\n",
       "      <td>-1.11</td>\n",
       "      <td>4.91</td>\n",
       "      <td>1.52</td>\n",
       "      <td>...</td>\n",
       "      <td>14.19</td>\n",
       "      <td>16.67</td>\n",
       "      <td>1.99</td>\n",
       "      <td>2.38</td>\n",
       "      <td>1.78</td>\n",
       "      <td>0.76</td>\n",
       "      <td>4.70</td>\n",
       "      <td>3.50</td>\n",
       "      <td>-8.10</td>\n",
       "      <td>-8.00</td>\n",
       "    </tr>\n",
       "  </tbody>\n",
       "</table>\n",
       "<p>266 rows × 64 columns</p>\n",
       "</div>"
      ],
      "text/plain": [
       "                    Country Name Country Code         Indicator Name  1960  \\\n",
       "0                          Aruba          ABW  GDP growth (annual %)   NaN   \n",
       "1    Africa Eastern and Southern          AFE  GDP growth (annual %)   NaN   \n",
       "2                    Afghanistan          AFG  GDP growth (annual %)   NaN   \n",
       "3     Africa Western and Central          AFW  GDP growth (annual %)   NaN   \n",
       "4                         Angola          AGO  GDP growth (annual %)   NaN   \n",
       "..                           ...          ...                    ...   ...   \n",
       "261                       Kosovo          XKX  GDP growth (annual %)   NaN   \n",
       "262                  Yemen, Rep.          YEM  GDP growth (annual %)   NaN   \n",
       "263                 South Africa          ZAF  GDP growth (annual %)   NaN   \n",
       "264                       Zambia          ZMB  GDP growth (annual %)   NaN   \n",
       "265                     Zimbabwe          ZWE  GDP growth (annual %)   NaN   \n",
       "\n",
       "     1961  1962  1963   1964   1965  1966  ...   2011   2012  2013  2014  \\\n",
       "0     NaN   NaN   NaN    NaN    NaN   NaN  ...   3.45  -1.37  4.20  0.30   \n",
       "1    1.06  7.45  5.74   5.47   5.59  4.06  ...   4.20   3.24  4.47  4.09   \n",
       "2     NaN   NaN   NaN    NaN    NaN   NaN  ...   0.43  12.75  5.60  2.72   \n",
       "3    1.90  3.82  7.04   5.23   4.18 -1.80  ...   5.00   5.27  5.83  5.83   \n",
       "4     NaN   NaN   NaN    NaN    NaN   NaN  ...   3.47   8.54  4.95  4.82   \n",
       "..    ...   ...   ...    ...    ...   ...  ...    ...    ...   ...   ...   \n",
       "261   NaN   NaN   NaN    NaN    NaN   NaN  ...   4.38   2.81  3.44  1.22   \n",
       "262   NaN   NaN   NaN    NaN    NaN   NaN  ... -12.71   2.39  4.82 -0.19   \n",
       "263  3.84  6.18  7.37   7.94   6.12  4.44  ...   3.28   2.21  2.49  1.85   \n",
       "264  1.36 -2.49  3.27  12.21  16.65 -5.57  ...   5.56   7.60  5.06  4.70   \n",
       "265  6.32  1.43  6.24  -1.11   4.91  1.52  ...  14.19  16.67  1.99  2.38   \n",
       "\n",
       "      2015  2016  2017  2018  2019  2020  \n",
       "0     5.70  2.10  2.00   NaN   NaN   NaN  \n",
       "1     2.76  2.00  2.83  2.39  1.67 -3.58  \n",
       "2     1.45  2.26  2.65  1.19  3.91 -1.93  \n",
       "3     2.74  0.00  2.16  2.83  3.15 -0.98  \n",
       "4     0.94 -2.58 -0.15 -2.00 -0.62 -4.04  \n",
       "..     ...   ...   ...   ...   ...   ...  \n",
       "261   4.10  4.07  4.23  3.81  4.94 -6.89  \n",
       "262 -27.99 -9.38 -5.07  0.75   NaN   NaN  \n",
       "263   1.19  0.40  1.41  0.79  0.15 -6.96  \n",
       "264   2.92  3.78  3.50  4.03  1.44 -3.02  \n",
       "265   1.78  0.76  4.70  3.50 -8.10 -8.00  \n",
       "\n",
       "[266 rows x 64 columns]"
      ]
     },
     "execution_count": 19,
     "metadata": {},
     "output_type": "execute_result"
    }
   ],
   "source": [
    "gdp_growth =pd.read_csv(\"gdp_growth.csv\")\n",
    "\n",
    "# Nan 값 0으로 대체\n",
    "#gdp_growth = gdp_growth.fillna(0)\n",
    "\n",
    "gdp_growth"
   ]
  },
  {
   "cell_type": "markdown",
   "metadata": {},
   "source": [
    "### - 데이터 설명\n",
    "\n",
    "위 데이터는 266여개의 도시 및 국가의 GDP 성장률에 대해 표기된 데이터로\n",
    "\n",
    "CountryName : 국가 및 도시 이름\n",
    "\n",
    "CountryCode : 국가 코드\n",
    "\n",
    "Indicator Name : 지표명\n",
    "\n",
    "년도 (1960~ 2020)"
   ]
  },
  {
   "cell_type": "markdown",
   "metadata": {},
   "source": [
    "#### 2020년도의 GDP 성장률에 대한 통계치"
   ]
  },
  {
   "cell_type": "code",
   "execution_count": 20,
   "metadata": {},
   "outputs": [
    {
     "data": {
      "text/html": [
       "<div>\n",
       "<style scoped>\n",
       "    .dataframe tbody tr th:only-of-type {\n",
       "        vertical-align: middle;\n",
       "    }\n",
       "\n",
       "    .dataframe tbody tr th {\n",
       "        vertical-align: top;\n",
       "    }\n",
       "\n",
       "    .dataframe thead th {\n",
       "        text-align: right;\n",
       "    }\n",
       "</style>\n",
       "<table border=\"1\" class=\"dataframe\">\n",
       "  <thead>\n",
       "    <tr style=\"text-align: right;\">\n",
       "      <th></th>\n",
       "      <th>2020</th>\n",
       "    </tr>\n",
       "  </thead>\n",
       "  <tbody>\n",
       "    <tr>\n",
       "      <th>count</th>\n",
       "      <td>227.000000</td>\n",
       "    </tr>\n",
       "    <tr>\n",
       "      <th>mean</th>\n",
       "      <td>-4.888414</td>\n",
       "    </tr>\n",
       "    <tr>\n",
       "      <th>std</th>\n",
       "      <td>6.638244</td>\n",
       "    </tr>\n",
       "    <tr>\n",
       "      <th>min</th>\n",
       "      <td>-56.310000</td>\n",
       "    </tr>\n",
       "    <tr>\n",
       "      <th>25%</th>\n",
       "      <td>-6.965000</td>\n",
       "    </tr>\n",
       "    <tr>\n",
       "      <th>50%</th>\n",
       "      <td>-3.900000</td>\n",
       "    </tr>\n",
       "    <tr>\n",
       "      <th>75%</th>\n",
       "      <td>-1.295000</td>\n",
       "    </tr>\n",
       "    <tr>\n",
       "      <th>max</th>\n",
       "      <td>6.990000</td>\n",
       "    </tr>\n",
       "  </tbody>\n",
       "</table>\n",
       "</div>"
      ],
      "text/plain": [
       "             2020\n",
       "count  227.000000\n",
       "mean    -4.888414\n",
       "std      6.638244\n",
       "min    -56.310000\n",
       "25%     -6.965000\n",
       "50%     -3.900000\n",
       "75%     -1.295000\n",
       "max      6.990000"
      ]
     },
     "execution_count": 20,
     "metadata": {},
     "output_type": "execute_result"
    }
   ],
   "source": [
    "# 2020년도 GDP 성장에 대한 EDA\n",
    "gdp_growth_2020 = gdp_growth.loc[:,['Country Name','2020']]\n",
    "\n",
    "gdp_growth_2020.describe()"
   ]
  },
  {
   "cell_type": "markdown",
   "metadata": {},
   "source": [
    "#### 1. 2020년도 GDP 마이너스 성장률 top10 국가"
   ]
  },
  {
   "cell_type": "code",
   "execution_count": 23,
   "metadata": {},
   "outputs": [
    {
     "data": {
      "text/html": [
       "<div>\n",
       "<style scoped>\n",
       "    .dataframe tbody tr th:only-of-type {\n",
       "        vertical-align: middle;\n",
       "    }\n",
       "\n",
       "    .dataframe tbody tr th {\n",
       "        vertical-align: top;\n",
       "    }\n",
       "\n",
       "    .dataframe thead th {\n",
       "        text-align: right;\n",
       "    }\n",
       "</style>\n",
       "<table border=\"1\" class=\"dataframe\">\n",
       "  <thead>\n",
       "    <tr style=\"text-align: right;\">\n",
       "      <th></th>\n",
       "      <th>Country Name</th>\n",
       "      <th>2020</th>\n",
       "    </tr>\n",
       "  </thead>\n",
       "  <tbody>\n",
       "    <tr>\n",
       "      <th>146</th>\n",
       "      <td>Macao SAR, China</td>\n",
       "      <td>-56.31</td>\n",
       "    </tr>\n",
       "    <tr>\n",
       "      <th>152</th>\n",
       "      <td>Maldives</td>\n",
       "      <td>-31.98</td>\n",
       "    </tr>\n",
       "    <tr>\n",
       "      <th>132</th>\n",
       "      <td>Libya</td>\n",
       "      <td>-31.30</td>\n",
       "    </tr>\n",
       "    <tr>\n",
       "      <th>228</th>\n",
       "      <td>Turks and Caicos Islands</td>\n",
       "      <td>-26.80</td>\n",
       "    </tr>\n",
       "    <tr>\n",
       "      <th>130</th>\n",
       "      <td>Lebanon</td>\n",
       "      <td>-20.30</td>\n",
       "    </tr>\n",
       "    <tr>\n",
       "      <th>133</th>\n",
       "      <td>St. Lucia</td>\n",
       "      <td>-20.21</td>\n",
       "    </tr>\n",
       "    <tr>\n",
       "      <th>76</th>\n",
       "      <td>Fiji</td>\n",
       "      <td>-19.05</td>\n",
       "    </tr>\n",
       "    <tr>\n",
       "      <th>185</th>\n",
       "      <td>Panama</td>\n",
       "      <td>-17.95</td>\n",
       "    </tr>\n",
       "    <tr>\n",
       "      <th>30</th>\n",
       "      <td>Barbados</td>\n",
       "      <td>-17.61</td>\n",
       "    </tr>\n",
       "    <tr>\n",
       "      <th>57</th>\n",
       "      <td>Dominica</td>\n",
       "      <td>-16.71</td>\n",
       "    </tr>\n",
       "  </tbody>\n",
       "</table>\n",
       "</div>"
      ],
      "text/plain": [
       "                 Country Name   2020\n",
       "146          Macao SAR, China -56.31\n",
       "152                  Maldives -31.98\n",
       "132                     Libya -31.30\n",
       "228  Turks and Caicos Islands -26.80\n",
       "130                   Lebanon -20.30\n",
       "133                 St. Lucia -20.21\n",
       "76                       Fiji -19.05\n",
       "185                    Panama -17.95\n",
       "30                   Barbados -17.61\n",
       "57                   Dominica -16.71"
      ]
     },
     "execution_count": 23,
     "metadata": {},
     "output_type": "execute_result"
    }
   ],
   "source": [
    "gdp_minus_growth_2020= gdp_growth_2020.sort_values(by=['2020'], axis=0)\n",
    "\n",
    "gdp_minus_growth_2020.head(10)"
   ]
  },
  {
   "cell_type": "markdown",
   "metadata": {},
   "source": [
    "#### 2. 2020년도 GDP 플러스 성장률 top10 국가"
   ]
  },
  {
   "cell_type": "code",
   "execution_count": 24,
   "metadata": {},
   "outputs": [
    {
     "data": {
      "text/html": [
       "<div>\n",
       "<style scoped>\n",
       "    .dataframe tbody tr th:only-of-type {\n",
       "        vertical-align: middle;\n",
       "    }\n",
       "\n",
       "    .dataframe tbody tr th {\n",
       "        vertical-align: top;\n",
       "    }\n",
       "\n",
       "    .dataframe thead th {\n",
       "        text-align: right;\n",
       "    }\n",
       "</style>\n",
       "<table border=\"1\" class=\"dataframe\">\n",
       "  <thead>\n",
       "    <tr style=\"text-align: right;\">\n",
       "      <th></th>\n",
       "      <th>Country Name</th>\n",
       "      <th>2020</th>\n",
       "    </tr>\n",
       "  </thead>\n",
       "  <tbody>\n",
       "    <tr>\n",
       "      <th>85</th>\n",
       "      <td>Guinea</td>\n",
       "      <td>6.99</td>\n",
       "    </tr>\n",
       "    <tr>\n",
       "      <th>72</th>\n",
       "      <td>Ethiopia</td>\n",
       "      <td>6.06</td>\n",
       "    </tr>\n",
       "    <tr>\n",
       "      <th>46</th>\n",
       "      <td>Comoros</td>\n",
       "      <td>4.91</td>\n",
       "    </tr>\n",
       "    <tr>\n",
       "      <th>234</th>\n",
       "      <td>Tajikistan</td>\n",
       "      <td>4.50</td>\n",
       "    </tr>\n",
       "    <tr>\n",
       "      <th>245</th>\n",
       "      <td>Tuvalu</td>\n",
       "      <td>4.40</td>\n",
       "    </tr>\n",
       "    <tr>\n",
       "      <th>94</th>\n",
       "      <td>Guyana</td>\n",
       "      <td>4.38</td>\n",
       "    </tr>\n",
       "    <tr>\n",
       "      <th>18</th>\n",
       "      <td>Benin</td>\n",
       "      <td>3.85</td>\n",
       "    </tr>\n",
       "    <tr>\n",
       "      <th>67</th>\n",
       "      <td>Egypt, Arab Rep.</td>\n",
       "      <td>3.57</td>\n",
       "    </tr>\n",
       "    <tr>\n",
       "      <th>111</th>\n",
       "      <td>Ireland</td>\n",
       "      <td>3.42</td>\n",
       "    </tr>\n",
       "    <tr>\n",
       "      <th>219</th>\n",
       "      <td>Sao Tome and Principe</td>\n",
       "      <td>3.09</td>\n",
       "    </tr>\n",
       "  </tbody>\n",
       "</table>\n",
       "</div>"
      ],
      "text/plain": [
       "              Country Name  2020\n",
       "85                  Guinea  6.99\n",
       "72                Ethiopia  6.06\n",
       "46                 Comoros  4.91\n",
       "234             Tajikistan  4.50\n",
       "245                 Tuvalu  4.40\n",
       "94                  Guyana  4.38\n",
       "18                   Benin  3.85\n",
       "67        Egypt, Arab Rep.  3.57\n",
       "111                Ireland  3.42\n",
       "219  Sao Tome and Principe  3.09"
      ]
     },
     "execution_count": 24,
     "metadata": {},
     "output_type": "execute_result"
    }
   ],
   "source": [
    "gdp_plus_growth_2020= gdp_growth_2020.sort_values(by=['2020'], axis=0, ascending=False)\n",
    "\n",
    "gdp_plus_growth_2020.head(10)"
   ]
  },
  {
   "cell_type": "markdown",
   "metadata": {},
   "source": [
    "### - 2019 vs 2020\n",
    "\n",
    "2020년도는 코로나의 영향으로 인한 통제와 변화가 있었던 시기이다. 2019년도 GDP 성장률을 파악해보자.\n",
    "\n",
    "#### 1. 2019년도 GDP 성장률이 플러스인 국가 수"
   ]
  },
  {
   "cell_type": "code",
   "execution_count": 30,
   "metadata": {},
   "outputs": [
    {
     "name": "stdout",
     "output_type": "stream",
     "text": [
      "\n",
      "2019년도 플러스 GDP 성장을 한 국가의 수\n",
      "218\n"
     ]
    }
   ],
   "source": [
    "gdp_growth_2019 = gdp_growth['2019']\n",
    "plus_growth_2019 = gdp_growth_2019[gdp_growth_2019 >0]\n",
    "\n",
    "print(\"\\n2019년도 플러스 GDP 성장을 한 국가의 수\")\n",
    "print(len(plus_growth_2019))"
   ]
  },
  {
   "cell_type": "markdown",
   "metadata": {},
   "source": [
    "#### 2. 2019년도 GDP 성장률이 마이너스인 국가 수"
   ]
  },
  {
   "cell_type": "code",
   "execution_count": 36,
   "metadata": {},
   "outputs": [
    {
     "name": "stdout",
     "output_type": "stream",
     "text": [
      "\n",
      "2019년도 마이너스 GDP 성장을 한 국가의 수\n",
      "27\n"
     ]
    }
   ],
   "source": [
    "gdp_growth_2019 = gdp_growth['2019']\n",
    "minus_growth_2019 = gdp_growth_2019[gdp_growth_2019 <0]\n",
    "\n",
    "print(\"\\n2019년도 마이너스 GDP 성장을 한 국가의 수\")\n",
    "print(len(minus_growth_2019))"
   ]
  },
  {
   "cell_type": "markdown",
   "metadata": {},
   "source": [
    "#### 3. 2020년도 GDP 성장률이 플러스인 국가 수"
   ]
  },
  {
   "cell_type": "code",
   "execution_count": 34,
   "metadata": {},
   "outputs": [
    {
     "name": "stdout",
     "output_type": "stream",
     "text": [
      "\n",
      "2020년도 플러스 GDP 성장을 한 국가의 수\n",
      "38\n"
     ]
    }
   ],
   "source": [
    "plus_growth_2020 = gdp_growth_2020[gdp_growth_2020['2020'] >0]\n",
    "\n",
    "print(\"\\n2020년도 플러스 GDP 성장을 한 국가의 수\")\n",
    "print(len(plus_growth_2020))"
   ]
  },
  {
   "cell_type": "markdown",
   "metadata": {},
   "source": [
    "#### 4. 2020년도 GDP 성장률이 마이너스인 국가 수"
   ]
  },
  {
   "cell_type": "code",
   "execution_count": 35,
   "metadata": {},
   "outputs": [
    {
     "name": "stdout",
     "output_type": "stream",
     "text": [
      "2020년도 마이너스 GDP 성장을 한 국가의 수\n",
      "187\n"
     ]
    }
   ],
   "source": [
    "minus_growth_2020 = gdp_growth_2020[gdp_growth_2020['2020'] <0]\n",
    "\n",
    "print(\"2020년도 마이너스 GDP 성장을 한 국가의 수\" )\n",
    "print(len(minus_growth_2020))"
   ]
  },
  {
   "cell_type": "code",
   "execution_count": 47,
   "metadata": {},
   "outputs": [
    {
     "data": {
      "text/plain": [
       "<matplotlib.collections.PathCollection at 0x28b8fa88808>"
      ]
     },
     "execution_count": 47,
     "metadata": {},
     "output_type": "execute_result"
    },
    {
     "data": {
      "image/png": "[encoded data removed]",
      "text/plain": [
       "<Figure size 720x360 with 1 Axes>"
      ]
     },
     "metadata": {
      "needs_background": "light"
     },
     "output_type": "display_data"
    }
   ],
   "source": [
    "gdp_growth_2019 = gdp_growth.loc[:,['Country Name','2019']]\n",
    "\n",
    "x = gdp_growth_2019['Country Name']\n",
    "y = gdp_growth_2019['2019']\n",
    "\n",
    "plt.figure(figsize=(10,5))\n",
    "plt.title('Year of 2019 GDP Growth')\n",
    "plt.scatter(x,y, alpha=0.5)"
   ]
  },
  {
   "cell_type": "code",
   "execution_count": 41,
   "metadata": {},
   "outputs": [
    {
     "data": {
      "text/plain": [
       "<matplotlib.collections.PathCollection at 0x28b8f96e908>"
      ]
     },
     "execution_count": 41,
     "metadata": {},
     "output_type": "execute_result"
    },
    {
     "data": {
      "image/png": "[encoded data removed]",
      "text/plain": [
       "<Figure size 720x360 with 1 Axes>"
      ]
     },
     "metadata": {
      "needs_background": "light"
     },
     "output_type": "display_data"
    }
   ],
   "source": [
    "x = gdp_growth_2020['Country Name']\n",
    "y = gdp_growth_2020['2020']\n",
    "\n",
    "plt.figure(figsize=(10,5))\n",
    "plt.title('Year of 2020 GDP Growth')\n",
    "plt.scatter(x,y, alpha=0.5)\n"
   ]
  },
  {
   "cell_type": "markdown",
   "metadata": {},
   "source": [
    "#### GDP 성장률 2019년 vs 2020년\n",
    "\n",
    "플러스인 국가 수: 218 vs 38\n",
    "\n",
    "마이너스인 국가 수: 27 vs 187\n",
    "\n",
    "코로나의 영향 때문인지 1년사이 많은 국가들이 플러스 성장에서 마이너스 성장으로 바뀐 것을 볼 수 있다."
   ]
  },
  {
   "cell_type": "code",
   "execution_count": 49,
   "metadata": {},
   "outputs": [],
   "source": [
    "gdp_growth_2020.to_csv(\"gdp_growth_2020.csv\", index=None)"
   ]
  }
 ],
 "metadata": {
  "kernelspec": {
   "display_name": "Python 3",
   "language": "python",
   "name": "python3"
  },
  "language_info": {
   "codemirror_mode": {
    "name": "ipython",
    "version": 3
   },
   "file_extension": ".py",
   "mimetype": "text/x-python",
   "name": "python",
   "nbconvert_exporter": "python",
   "pygments_lexer": "ipython3",
   "version": "3.7.6"
  }
 },
 "nbformat": 4,
 "nbformat_minor": 4
}
